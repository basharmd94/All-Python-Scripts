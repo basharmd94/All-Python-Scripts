{
 "cells": [
  {
   "cell_type": "code",
   "execution_count": null,
   "metadata": {},
   "outputs": [
    {
     "name": "stdout",
     "output_type": "stream",
     "text": [
      "🔧 ENV=production: Using .env (localhost)\n",
      "2025-08-11 2025-09-11\n"
     ]
    }
   ],
   "source": [
    "import os\n",
    "import sys\n",
    "import pandas as pd\n",
    "import numpy as np\n",
    "from datetime import datetime, timedelta\n",
    "from sqlalchemy import create_engine\n",
    "from dotenv import load_dotenv\n",
    "import warnings\n",
    "\n",
    "# === Load Environment & Config ===\n",
    "load_dotenv()\n",
    "# Zid Settings\n",
    "ZID_HMBR = int(os.environ[\"ZID_GULSHAN_TRADING\"])\n",
    "ZID_GI = int(os.environ[\"ZID_GI\"])\n",
    "ZID_ZEPTO = int(os.environ[\"ZID_ZEPTO_CHEMICALS\"])  # Zepto business\n",
    "ZID_HMBR_ONLINE = int(os.environ[\"ZID_HMBR_ONLINE_SHOP\"])  # HMBR Online business\n",
    "ZID_PACKAGING = int(os.environ[\"ZID_GULSHAN_PACKAGING\"])  # Packaging business\n",
    "\n",
    "# Project settings\n",
    "PROJECT_TRADING = os.environ[\"PROJECT_100001\"]\n",
    "PROJECT_GI = os.environ[\"PROJECT_100000\"]   \n",
    "PROJECT_ZEPTO = os.environ[\"PROJECT_100005\"]\n",
    "PROJECT_HMBR_ONLINE = os.environ[\"PROJECT_100007\"]\n",
    "PROJECT_PACKAGING = os.environ[\"PROJECT_100009\"]\n",
    "\n",
    "\n",
    "PROJECT_ROOT = os.path.dirname(os.getcwd())\n",
    "if PROJECT_ROOT not in sys.path:\n",
    "    sys.path.insert(0, PROJECT_ROOT)\n",
    "\n",
    "from mail import send_mail, get_email_recipients\n",
    "from project_config import DATABASE_URL\n",
    "\n",
    "engine = create_engine(DATABASE_URL)\n",
    "warnings.filterwarnings('ignore', category=pd.errors.DtypeWarning)\n",
    "pd.set_option('display.float_format', '{:.2f}'.format)\n",
    "\n",
    "\n",
    "def get_sales_COGS(zid,start_date,end_date):\n",
    "    df = pd.read_sql(\"\"\"SELECT caitem.zid,caitem.xitem,caitem.xdesc,caitem.xgitem, (imtrn.xqty*imtrn.xsign) as qty,\n",
    "                     (imtrn.xval*imtrn.xsign) as totalvalue,\n",
    "                        opddt.xqty as opddt_qty,opddt.xrate,opddt.xlineamt,(opddt.xdtwotax-opddt.xdtdisc) as xdtwotax  \n",
    "                        FROM caitem\n",
    "                        JOIN imtrn\n",
    "                        ON caitem.xitem = imtrn.xitem\n",
    "                        JOIN opddt\n",
    "                        ON (imtrn.xdocnum = opddt.xdornum AND imtrn.xitem = opddt.xitem AND imtrn.xdocrow = opddt.xrow)\n",
    "                        JOIN opdor\n",
    "                        ON imtrn.xdocnum = opdor.xdornum\n",
    "                        WHERE caitem.zid = '%s'\n",
    "                        AND imtrn.zid = '%s'\n",
    "                        AND opddt.zid = '%s'\n",
    "                        AND opdor.zid = '%s'\n",
    "                        AND imtrn.xdoctype = '%s'\n",
    "                        AND imtrn.xdate >= '%s'\n",
    "                        AND imtrn.xdate <= '%s'\"\"\"%(zid,zid,zid,zid,'DO--',start_date,end_date),con=engine)\n",
    "    return df\n",
    "\n",
    "def get_return(zid,start_date,end_date):\n",
    "    df = pd.read_sql(\"\"\"SELECT imtrn.xitem, imtrn.xqty, (imtrn.xval*imtrn.xsign) as returnvalue, opcdt.xrate, (opcdt.xrate*imtrn.xqty) as totamt\n",
    "                        FROM imtrn \n",
    "                        JOIN opcdt\n",
    "                        ON imtrn.xdocnum = opcdt.xcrnnum\n",
    "                        AND imtrn.xitem = opcdt.xitem\n",
    "                        JOIN opcrn\n",
    "                        ON imtrn.xdocnum = opcrn.xcrnnum\n",
    "                        WHERE imtrn.zid = '%s'\n",
    "                        AND opcdt.zid = '%s'\n",
    "                        AND opcrn.zid = '%s'\n",
    "                        AND imtrn.xdoctype = '%s'\n",
    "                        AND imtrn.xdate >= '%s'\n",
    "                        AND imtrn.xdate <= '%s'\"\"\"%(zid,zid,zid,'SR--',start_date,end_date),con=engine)\n",
    "    return df\n",
    "\n",
    "def get_gl_details(zid,COGS,start_date,end_date):\n",
    "    df = pd.read_sql(\"\"\"SELECT glmst.xacctype, SUM(gldetail.xprime)\n",
    "                        FROM glmst\n",
    "                        JOIN gldetail\n",
    "                        ON glmst.xacc = gldetail.xacc\n",
    "                        JOIN glheader\n",
    "                        ON gldetail.xvoucher = glheader.xvoucher\n",
    "                        WHERE glmst.zid = '%s'\n",
    "                        AND gldetail.zid = '%s'\n",
    "                        AND glheader.zid = '%s'\n",
    "                        AND (glmst.xacctype = 'Income' OR glmst.xacctype = 'Expenditure')\n",
    "                        AND glmst.xacc != '%s'\n",
    "                        AND glheader.xdate >= '%s'\n",
    "                        AND glheader.xdate <= '%s'\n",
    "                        GROUP BY glmst.xacctype\"\"\"%(zid,zid,zid,COGS,start_date,end_date),con = engine)\n",
    "    return df\n",
    "\n",
    "def get_gl_details_zepto(zid,COGS,MRP,start_date,end_date):\n",
    "    df = pd.read_sql(\"\"\"SELECT glmst.xacctype, SUM(gldetail.xprime)\n",
    "                        FROM glmst\n",
    "                        JOIN gldetail\n",
    "                        ON glmst.xacc = gldetail.xacc\n",
    "                        JOIN glheader\n",
    "                        ON gldetail.xvoucher = glheader.xvoucher\n",
    "                        WHERE glmst.zid = '%s'\n",
    "                        AND gldetail.zid = '%s'\n",
    "                        AND glheader.zid = '%s'\n",
    "                        AND (glmst.xacctype = 'Income' OR glmst.xacctype = 'Expenditure')\n",
    "                        AND glmst.xacc != '%s'\n",
    "                        AND glmst.xacc != '%s'\n",
    "                        AND glheader.xdate >= '%s'\n",
    "                        AND glheader.xdate <= '%s'\n",
    "                        GROUP BY glmst.xacctype\"\"\"%(zid,zid,zid,COGS,MRP,start_date,end_date),con = engine)\n",
    "    return df\n",
    "\n",
    "def get_gl_details_project(zid,project,start_date,end_date,COGS):\n",
    "    df = pd.read_sql(\"\"\"SELECT glmst.xacctype, SUM(gldetail.xprime)\n",
    "                        FROM glmst\n",
    "                        JOIN gldetail\n",
    "                        ON glmst.xacc = gldetail.xacc\n",
    "                        JOIN glheader\n",
    "                        ON gldetail.xvoucher = glheader.xvoucher\n",
    "                        WHERE glmst.zid = '%s'\n",
    "                        AND gldetail.zid = '%s'\n",
    "                        AND glheader.zid = '%s'\n",
    "                        AND gldetail.xproj = '%s'\n",
    "                        AND (glmst.xacctype = 'Income' OR glmst.xacctype = 'Expenditure')\n",
    "                        AND glmst.xacc != '%s'\n",
    "                        AND glheader.xdate >= '%s'\n",
    "                        AND glheader.xdate <= '%s'\n",
    "                        GROUP BY  glmst.xacctype\"\"\"%(zid,zid,zid,project,COGS,start_date,end_date),con = engine)\n",
    "    return df\n",
    "\n",
    "\n",
    "COGS_zepto = '04010020'\n",
    "\n",
    "COGS = '04010020'\n",
    "\n",
    "end_date = (datetime.now() - timedelta(days = 2)).strftime('%Y-%m-%d')\n",
    "start_date = (datetime.now() - timedelta(days = 33)).strftime('%Y-%m-%d')\n",
    "\n",
    "print (start_date, end_date)"
   ]
  },
  {
   "cell_type": "code",
   "execution_count": 2,
   "metadata": {},
   "outputs": [],
   "source": [
    "main_data_dict = {}"
   ]
  },
  {
   "cell_type": "code",
   "execution_count": 5,
   "metadata": {},
   "outputs": [
    {
     "name": "stderr",
     "output_type": "stream",
     "text": [
      "C:\\Users\\Administrator\\AppData\\Local\\Temp\\11\\ipykernel_13048\\1730211899.py:4: FutureWarning: Indexing with multiple keys (implicitly converted to a tuple of keys) will be deprecated, use a list instead.\n",
      "  df_sales_5 = df_sales_5.groupby(['xitem','xdesc'])['totalvalue','xdtwotax'].sum().reset_index().round(1)\n"
     ]
    }
   ],
   "source": [
    "\n",
    "############ZEPTO ################\n",
    "######    xlineamt to xdtwotax, COGS should be COGS_zepto\n",
    "df_sales_5 = get_sales_COGS(ZID_ZEPTO,start_date,end_date)\n",
    "df_sales_5 = df_sales_5.groupby(['xitem','xdesc'])['totalvalue','xdtwotax'].sum().reset_index().round(1)"
   ]
  },
  {
   "cell_type": "code",
   "execution_count": 16,
   "metadata": {},
   "outputs": [
    {
     "data": {
      "text/html": [
       "<div>\n",
       "<style scoped>\n",
       "    .dataframe tbody tr th:only-of-type {\n",
       "        vertical-align: middle;\n",
       "    }\n",
       "\n",
       "    .dataframe tbody tr th {\n",
       "        vertical-align: top;\n",
       "    }\n",
       "\n",
       "    .dataframe thead th {\n",
       "        text-align: right;\n",
       "    }\n",
       "</style>\n",
       "<table border=\"1\" class=\"dataframe\">\n",
       "  <thead>\n",
       "    <tr style=\"text-align: right;\">\n",
       "      <th></th>\n",
       "      <th>xitem</th>\n",
       "      <th>xdesc</th>\n",
       "      <th>totalvalue</th>\n",
       "      <th>xdtwotax</th>\n",
       "    </tr>\n",
       "  </thead>\n",
       "  <tbody>\n",
       "    <tr>\n",
       "      <th>15</th>\n",
       "      <td>FZ000037</td>\n",
       "      <td>Dish washing  liquid 5 Litre</td>\n",
       "      <td>-1212387.60</td>\n",
       "      <td>453679.70</td>\n",
       "    </tr>\n",
       "  </tbody>\n",
       "</table>\n",
       "</div>"
      ],
      "text/plain": [
       "       xitem                         xdesc  totalvalue  xdtwotax\n",
       "15  FZ000037  Dish washing  liquid 5 Litre -1212387.60 453679.70"
      ]
     },
     "execution_count": 16,
     "metadata": {},
     "output_type": "execute_result"
    }
   ],
   "source": [
    "df_sales_5[df_sales_5['xitem']=='FZ000037']"
   ]
  },
  {
   "cell_type": "code",
   "execution_count": 18,
   "metadata": {},
   "outputs": [
    {
     "name": "stderr",
     "output_type": "stream",
     "text": [
      "C:\\Users\\Administrator\\AppData\\Local\\Temp\\11\\ipykernel_13048\\3973077187.py:2: FutureWarning: Indexing with multiple keys (implicitly converted to a tuple of keys) will be deprecated, use a list instead.\n",
      "  df_return_5 = df_return_5.groupby(['xitem'])['returnvalue','totamt'].sum().reset_index().round(1)\n"
     ]
    },
    {
     "data": {
      "text/html": [
       "<div>\n",
       "<style scoped>\n",
       "    .dataframe tbody tr th:only-of-type {\n",
       "        vertical-align: middle;\n",
       "    }\n",
       "\n",
       "    .dataframe tbody tr th {\n",
       "        vertical-align: top;\n",
       "    }\n",
       "\n",
       "    .dataframe thead th {\n",
       "        text-align: right;\n",
       "    }\n",
       "</style>\n",
       "<table border=\"1\" class=\"dataframe\">\n",
       "  <thead>\n",
       "    <tr style=\"text-align: right;\">\n",
       "      <th></th>\n",
       "      <th>xitem</th>\n",
       "      <th>xdesc</th>\n",
       "      <th>totalvalue</th>\n",
       "      <th>xdtwotax</th>\n",
       "      <th>returnvalue</th>\n",
       "      <th>totamt</th>\n",
       "    </tr>\n",
       "  </thead>\n",
       "  <tbody>\n",
       "    <tr>\n",
       "      <th>15</th>\n",
       "      <td>FZ000037</td>\n",
       "      <td>Dish washing  liquid 5 Litre</td>\n",
       "      <td>-1212387.60</td>\n",
       "      <td>453679.70</td>\n",
       "      <td>32777.50</td>\n",
       "      <td>34510.00</td>\n",
       "    </tr>\n",
       "  </tbody>\n",
       "</table>\n",
       "</div>"
      ],
      "text/plain": [
       "       xitem                         xdesc  totalvalue  xdtwotax  returnvalue  \\\n",
       "15  FZ000037  Dish washing  liquid 5 Litre -1212387.60 453679.70     32777.50   \n",
       "\n",
       "     totamt  \n",
       "15 34510.00  "
      ]
     },
     "execution_count": 18,
     "metadata": {},
     "output_type": "execute_result"
    }
   ],
   "source": [
    "df_return_5 = get_return(ZID_ZEPTO,start_date,end_date)\n",
    "df_return_5 = df_return_5.groupby(['xitem'])['returnvalue','totamt'].sum().reset_index().round(1)\n",
    "df_final_5 = df_sales_5.merge(df_return_5[['xitem','returnvalue','totamt']],on=['xitem'],how='left').fillna(0)\n",
    "\n",
    "df_final_5[df_final_5['xitem'] == 'FZ000037']"
   ]
  },
  {
   "cell_type": "code",
   "execution_count": null,
   "metadata": {},
   "outputs": [
    {
     "data": {
      "text/html": [
       "<div>\n",
       "<style scoped>\n",
       "    .dataframe tbody tr th:only-of-type {\n",
       "        vertical-align: middle;\n",
       "    }\n",
       "\n",
       "    .dataframe tbody tr th {\n",
       "        vertical-align: top;\n",
       "    }\n",
       "\n",
       "    .dataframe thead th {\n",
       "        text-align: right;\n",
       "    }\n",
       "</style>\n",
       "<table border=\"1\" class=\"dataframe\">\n",
       "  <thead>\n",
       "    <tr style=\"text-align: right;\">\n",
       "      <th></th>\n",
       "      <th>xitem</th>\n",
       "      <th>returnvalue</th>\n",
       "      <th>totamt</th>\n",
       "    </tr>\n",
       "  </thead>\n",
       "  <tbody>\n",
       "    <tr>\n",
       "      <th>8</th>\n",
       "      <td>FZ000037</td>\n",
       "      <td>32777.50</td>\n",
       "      <td>34510.00</td>\n",
       "    </tr>\n",
       "  </tbody>\n",
       "</table>\n",
       "</div>"
      ],
      "text/plain": [
       "      xitem  returnvalue   totamt\n",
       "8  FZ000037     32777.50 34510.00"
      ]
     },
     "execution_count": 15,
     "metadata": {},
     "output_type": "execute_result"
    }
   ],
   "source": []
  },
  {
   "cell_type": "code",
   "execution_count": null,
   "metadata": {},
   "outputs": [],
   "source": []
  }
 ],
 "metadata": {
  "kernelspec": {
   "display_name": "Python 3",
   "language": "python",
   "name": "python3"
  },
  "language_info": {
   "codemirror_mode": {
    "name": "ipython",
    "version": 3
   },
   "file_extension": ".py",
   "mimetype": "text/x-python",
   "name": "python",
   "nbconvert_exporter": "python",
   "pygments_lexer": "ipython3",
   "version": "3.9.6"
  },
  "orig_nbformat": 4
 },
 "nbformat": 4,
 "nbformat_minor": 2
}
